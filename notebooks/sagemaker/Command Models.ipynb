{
 "cells": [
  {
   "cell_type": "markdown",
   "metadata": {},
   "source": [
    "# Cohere Command Models in SageMaker  \n",
    "\n",
    "\n",
    "In this notebook, we demonstrate how to use the SageMaker Python SDK to deploy and run inference on Command models from Cohere."
   ]
  },
  {
   "cell_type": "markdown",
   "metadata": {},
   "source": [
    "## Setup\n",
    "\n"
   ]
  },
  {
   "cell_type": "markdown",
   "metadata": {},
   "source": [
    "First, upgrade to the latest Sagemaker, Boto and Cohere SDKs to be able to deploy and invoke Cohere models."
   ]
  },
  {
   "cell_type": "code",
   "execution_count": null,
   "metadata": {},
   "outputs": [],
   "source": [
    "%pip install --upgrade --quiet ipywidgets sagemaker boto3 cohere"
   ]
  },
  {
   "cell_type": "markdown",
   "metadata": {},
   "source": [
    "## Deploy"
   ]
  },
  {
   "cell_type": "markdown",
   "metadata": {},
   "source": [
    "#### Latest Models\n",
    "| **Model Name**       | **GPU Type** | **Model ID**                       |\n",
    "|----------------------|--------------|------------------------------------|\n",
    "| Command R+ (08-2024) | h100         | `cohere-command-r-plus-08-2024-h100` |\n",
    "| Command R (08-2024)  | h100         | `cohere-command-r-08-2024-h100`      |\n",
    "\n",
    "#### Older Models\n",
    "| **Model Name**       | **GPU Type** | **Model ID**                       |\n",
    "|----------------------|--------------|------------------------------------|\n",
    "| Command R+ (04-2024) | h100         | `cohere-command-r-plus-h100` |\n",
    "| Command R+ (04-2024) | a100         | `cohere-command-r-plus-a100`      |\n",
    "| Command R (03-2024) | h100         | `cohere-command-r-h100` |\n",
    "| Command R (03-2024) | a100         | `cohere-command-r-a100`      |\n"
   ]
  },
  {
   "cell_type": "markdown",
   "metadata": {},
   "source": [
    "Specify the model ID to deploy one of the models from the above list."
   ]
  },
  {
   "cell_type": "code",
   "execution_count": null,
   "metadata": {},
   "outputs": [],
   "source": [
    "model_id, model_version = input(\"Please enter a model ID\"), \"*\""
   ]
  },
  {
   "cell_type": "markdown",
   "metadata": {},
   "source": [
    "Use the Sagemaker Jumpstart SDK to deploy the model."
   ]
  },
  {
   "cell_type": "code",
   "execution_count": null,
   "metadata": {},
   "outputs": [],
   "source": [
    "from sagemaker.jumpstart.model import JumpStartModel\n",
    "\n",
    "model = JumpStartModel(model_id=model_id, model_version=model_version)\n",
    "deployed_model = model.deploy()"
   ]
  },
  {
   "cell_type": "markdown",
   "metadata": {},
   "source": [
    "# Use the model"
   ]
  },
  {
   "cell_type": "code",
   "execution_count": null,
   "metadata": {},
   "outputs": [],
   "source": [
    "import cohere\n",
    "\n",
    "# Initialize via parameters or local env vars / config file\n",
    "co = cohere.SagemakerClientV2(\n",
    "    aws_region=\"us-east-1\",\n",
    "    aws_access_key=\"...\",\n",
    "    aws_secret_key=\"...\",\n",
    "    aws_session_token=\"...\",\n",
    ")\n",
    "\n",
    "res = co.chat(\n",
    "    model=model_id,\n",
    "    messages=[\n",
    "        { \"role\": \"user\", \"content\": \"hello\" }\n",
    "    ]\n",
    ")\n",
    "\n",
    "print(res.message)"
   ]
  },
  {
   "cell_type": "markdown",
   "metadata": {},
   "source": [
    "### More API Features\n",
    "To learn more about API features such as token streaming and tool use, please see the documentation in the [Cohere Chat API Reference](https://docs.cohere.com/reference/chat)."
   ]
  },
  {
   "cell_type": "markdown",
   "metadata": {},
   "source": [
    "# Clean Up\n",
    "\n",
    "After using the resource, you can delete the model and the endpoint."
   ]
  },
  {
   "cell_type": "code",
   "execution_count": null,
   "metadata": {},
   "outputs": [],
   "source": [
    "deployed_model.delete_model()\n",
    "deployed_model.delete_endpoint()"
   ]
  }
 ],
 "metadata": {
  "instance_type": "ml.t3.medium",
  "kernelspec": {
   "display_name": "Python 3",
   "language": "python",
   "name": "python3"
  },
  "language_info": {
   "codemirror_mode": {
    "name": "ipython",
    "version": 3
   },
   "file_extension": ".py",
   "mimetype": "text/x-python",
   "name": "python",
   "nbconvert_exporter": "python",
   "pygments_lexer": "ipython3",
   "version": "3.12.8"
  }
 },
 "nbformat": 4,
 "nbformat_minor": 4
}
