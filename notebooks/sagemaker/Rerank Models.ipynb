{
 "cells": [
  {
   "cell_type": "markdown",
   "metadata": {},
   "source": [
    "# Cohere Rerank Models in SageMaker  \n",
    "\n",
    "\n",
    "In this notebook, we demonstrate how to use the SageMaker Python SDK to deploy and run inference on Command models from Cohere."
   ]
  },
  {
   "cell_type": "markdown",
   "metadata": {},
   "source": [
    "## Setup\n",
    "\n"
   ]
  },
  {
   "cell_type": "markdown",
   "metadata": {},
   "source": [
    "First, upgrade to the latest Sagemaker, Boto and Cohere SDKs to be able to deploy and invoke Cohere models."
   ]
  },
  {
   "cell_type": "code",
   "execution_count": null,
   "metadata": {},
   "outputs": [],
   "source": [
    "%pip install --upgrade --quiet ipywidgets sagemaker boto3 cohere"
   ]
  },
  {
   "cell_type": "markdown",
   "metadata": {},
   "source": [
    "## Deploy"
   ]
  },
  {
   "cell_type": "markdown",
   "metadata": {},
   "source": [
    "#### Latest Models\n",
    "| **Model Name**        | **Model ID**                       |\n",
    "|----------------------|------------------------------------|\n",
    "| Rerank v3 Multilingual | `cohere-rerank-v3-multilingual` |\n",
    "| Rerank v3 English | `cohere-rerank-v3-english`      |\n",
    "| Rerank \"Nimble\" v3 Multilingual | `cohere-rerank-nimble-multi` |\n",
    "| Rerank \"Nimble\" v3 English | `cohere-rerank-nimble-english`      |\n",
    "\n",
    "#### Older Models\n",
    "\n",
    "| **Model Name**        | **Model ID**                       |\n",
    "|----------------------|------------------------------------|\n",
    "| Rerank v2 Multilingual | `cohere-rerank-multilingual-v2`      |\n",
    "| Rerank v2 English | `cohere-rerank-english-v2`      |"
   ]
  },
  {
   "cell_type": "markdown",
   "metadata": {},
   "source": [
    "Specify the model ID to deploy one of the models from the above list."
   ]
  },
  {
   "cell_type": "code",
   "execution_count": null,
   "metadata": {},
   "outputs": [],
   "source": [
    "model_id, model_version = input(\"Please enter a model ID\"), \"*\""
   ]
  },
  {
   "cell_type": "markdown",
   "metadata": {},
   "source": [
    "Use the Sagemaker Jumpstart SDK to deploy the model."
   ]
  },
  {
   "cell_type": "code",
   "execution_count": null,
   "metadata": {},
   "outputs": [],
   "source": [
    "from sagemaker.jumpstart.model import JumpStartModel\n",
    "\n",
    "model = JumpStartModel(model_id=model_id, model_version=model_version)\n",
    "deployed_model = model.deploy()"
   ]
  },
  {
   "cell_type": "markdown",
   "metadata": {},
   "source": [
    "# Use the model"
   ]
  },
  {
   "cell_type": "code",
   "execution_count": null,
   "metadata": {},
   "outputs": [],
   "source": [
    "import cohere\n",
    "\n",
    "# Initialize via parameters or local env vars / config file\n",
    "co = cohere.SagemakerClientV2()\n",
    "\n",
    "docs = [\n",
    "    \"Carson City is the capital city of the American state of Nevada.\",\n",
    "    \"The Commonwealth of the Northern Mariana Islands is a group of islands in the Pacific Ocean. Its capital is Saipan.\",\n",
    "    \"Capitalization or capitalisation in English grammar is the use of a capital letter at the start of a word. English usage varies from capitalization in other languages.\",\n",
    "    \"Washington, D.C. (also known as simply Washington or D.C., and officially as the District of Columbia) is the capital of the United States. It is a federal district.\",\n",
    "    \"Capital punishment has existed in the United States since beforethe United States was a country. As of 2017, capital punishment is legal in 30 of the 50 states.\",\n",
    "]\n",
    "\n",
    "response = co.rerank(\n",
    "    model=model_id,\n",
    "    query=\"What is the capital of the United States?\",\n",
    "    documents=docs,\n",
    "    top_n=3,\n",
    ")\n",
    "\n",
    "print(response.results)"
   ]
  },
  {
   "cell_type": "markdown",
   "metadata": {},
   "source": [
    "### More API Features\n",
    "To learn more about API features please see the documentation in the [Cohere Rerank API Reference](https://docs.cohere.com/reference/rerank)."
   ]
  },
  {
   "cell_type": "markdown",
   "metadata": {},
   "source": [
    "# Clean Up\n",
    "\n",
    "After using the resource, you can delete the model and the endpoint."
   ]
  },
  {
   "cell_type": "code",
   "execution_count": null,
   "metadata": {},
   "outputs": [],
   "source": [
    "deployed_model.delete_model()\n",
    "deployed_model.delete_endpoint()"
   ]
  }
 ],
 "metadata": {
  "instance_type": "ml.t3.medium",
  "kernelspec": {
   "display_name": "Python 3",
   "language": "python",
   "name": "python3"
  },
  "language_info": {
   "codemirror_mode": {
    "name": "ipython",
    "version": 3
   },
   "file_extension": ".py",
   "mimetype": "text/x-python",
   "name": "python",
   "nbconvert_exporter": "python",
   "pygments_lexer": "ipython3",
   "version": "3.12.8"
  }
 },
 "nbformat": 4,
 "nbformat_minor": 4
}
