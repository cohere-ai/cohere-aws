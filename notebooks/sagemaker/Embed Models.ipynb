{
 "cells": [
  {
   "cell_type": "markdown",
   "metadata": {},
   "source": [
    "# Cohere Embed Models in SageMaker  \n",
    "\n",
    "\n",
    "In this notebook, we demonstrate how to use the SageMaker Python SDK to deploy and run inference on Command models from Cohere."
   ]
  },
  {
   "cell_type": "markdown",
   "metadata": {},
   "source": [
    "## Setup\n",
    "\n"
   ]
  },
  {
   "cell_type": "markdown",
   "metadata": {},
   "source": [
    "First, upgrade to the latest Sagemaker, Boto and Cohere SDKs to be able to deploy and invoke Cohere models."
   ]
  },
  {
   "cell_type": "code",
   "execution_count": null,
   "metadata": {},
   "outputs": [],
   "source": [
    "%pip install --upgrade --quiet ipywidgets sagemaker boto3 cohere"
   ]
  },
  {
   "cell_type": "markdown",
   "metadata": {},
   "source": [
    "## Deploy"
   ]
  },
  {
   "cell_type": "markdown",
   "metadata": {},
   "source": [
    "#### Latest Models\n",
    "| **Model Name**        | **Model ID**                       |\n",
    "|----------------------|------------------------------------|\n",
    "| Embed v3 Multilingual | `cohere-embed-multilingual` |\n",
    "| Embed v3 English | `cohere-embed-english`      |\n",
    "| Embed-Light v3 Multilingual | `cohere-embed-light-multilingual`      |\n",
    "| Embed-Light v3 English | `cohere-embed-light-english`      |"
   ]
  },
  {
   "cell_type": "markdown",
   "metadata": {},
   "source": [
    "Specify the model ID to deploy one of the models from the above list."
   ]
  },
  {
   "cell_type": "code",
   "execution_count": 3,
   "metadata": {},
   "outputs": [],
   "source": [
    "model_id, model_version = input(\"Please enter a model ID\"), \"*\""
   ]
  },
  {
   "cell_type": "markdown",
   "metadata": {},
   "source": [
    "Use the Sagemaker Jumpstart SDK to deploy the model."
   ]
  },
  {
   "cell_type": "code",
   "execution_count": null,
   "metadata": {},
   "outputs": [],
   "source": [
    "from sagemaker.jumpstart.model import JumpStartModel\n",
    "\n",
    "model = JumpStartModel(model_id=model_id, model_version=model_version)\n",
    "deployed_model = model.deploy()"
   ]
  },
  {
   "cell_type": "markdown",
   "metadata": {},
   "source": [
    "# Use the model"
   ]
  },
  {
   "cell_type": "code",
   "execution_count": null,
   "metadata": {},
   "outputs": [],
   "source": [
    "import cohere\n",
    "\n",
    "co = cohere.SagemakerClientV2()\n",
    "\n",
    "# generate embeddings for up to 96 inputs\n",
    "res = co.embed(\n",
    "    model=model_id,\n",
    "    input_type=\"search_query\",\n",
    "    embedding_types=[\"float\"],\n",
    "    inputs=[\n",
    "        { \"content\": [{\"type\": \"text\", \"text\": \"hello\" }] }\n",
    "    ]\n",
    ")\n",
    "\n",
    "print(res.embeddings)"
   ]
  },
  {
   "cell_type": "markdown",
   "metadata": {},
   "source": [
    "### More API Features\n",
    "To learn more about API features such as multi-modality, input types, and embedding types, please see the documentation in the [Cohere Embed API Reference](https://docs.cohere.com/reference/embed)."
   ]
  },
  {
   "cell_type": "markdown",
   "metadata": {},
   "source": [
    "# Clean Up\n",
    "\n",
    "After using the resource, you can delete the model and the endpoint."
   ]
  },
  {
   "cell_type": "code",
   "execution_count": null,
   "metadata": {},
   "outputs": [],
   "source": [
    "deployed_model.delete_model()\n",
    "deployed_model.delete_endpoint()"
   ]
  }
 ],
 "metadata": {
  "instance_type": "ml.t3.medium",
  "kernelspec": {
   "display_name": "Python 3",
   "language": "python",
   "name": "python3"
  },
  "language_info": {
   "codemirror_mode": {
    "name": "ipython",
    "version": 3
   },
   "file_extension": ".py",
   "mimetype": "text/x-python",
   "name": "python",
   "nbconvert_exporter": "python",
   "pygments_lexer": "ipython3",
   "version": "3.12.8"
  }
 },
 "nbformat": 4,
 "nbformat_minor": 4
}
