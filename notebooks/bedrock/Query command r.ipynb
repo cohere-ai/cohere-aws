{
 "cells": [
  {
   "attachments": {},
   "cell_type": "markdown",
   "metadata": {},
   "source": [
    "# Query cohere-command-r Model from AWS Bedrock \n",
    "\n",
    "TODO update links\n",
    "\n",
    "\n",
    "Cohere builds a collection of Large Language Models (LLMs) trained on a massive corpus of curated web data. Powering these models, our infrastructure enables our product to be deployed for a wide range of use cases. The use cases we power include generation (copy writing, etc), summarization, classification, content moderation, information extraction, semantic search, and contextual entity extraction\n",
    "\n",
    "This sample notebook shows you how to query [cohere-command-r](https://aws.amazon.com/marketplace/pp/prodview-r6zvppobprqmy) using Amazon Bedrock.\n",
    "\n",
    "> **Note**: This is a reference notebook and it cannot run unless you make changes suggested in the notebook.\n",
    "\n",
    "## Contents:\n",
    "1. [Subscribe to Amazon Bedrock](#1.-Subscribe-to-Amazon-Bedrock)\n",
    "2. [Perform real-time inference](#2.-Perform-real-time-inference)\n",
    "   1. [Create a Cohere AWS Client](#A.-Create-a-Cohere-AWS-Client)\n",
    "   2. [Create input payload](#B.-Create-input-payload)\n",
    "   3. [Perform real-time inference](#C.-Perform-real-time-inference)\n",
    "   4. [Visualize output](#D.-Visualize-output)\n",
    "   5. [Stream output](#E.-Stream-output)\n",
    "3. [Sample use cases](#3.-Sample-use-cases) \n",
    "   1. [Chat with documents (RAG)](#A.-Chat-with-documets-(RAG))\n",
    "   2. [Generate search queries](#B.-generate-search-queries)\n",
    "   3. [Tool inputs](#C.-Tool-inputs)\n",
    "   4. [Tool results](#D.-Tool-results)\n",
    "4. [Clean up](#4.-Clean-up)\n",
    "   1. [Unsubscribe from the listing (optional)](#A.-Unsubscribe-from-the-listing-(optional))\n",
    "\n",
    "## Usage instructions\n",
    "You can run this notebook one cell at a time (By using Shift+Enter for running a cell)."
   ]
  },
  {
   "attachments": {},
   "cell_type": "markdown",
   "metadata": {},
   "source": [
    "## 1. Subscribe to Amazon Bedrock"
   ]
  },
  {
   "attachments": {},
   "cell_type": "markdown",
   "metadata": {},
   "source": [
    "Follow the instructions in the [Amazon Bedrock](https://console.aws.amazon.com/bedrock) console.\n"
   ]
  },
  {
   "attachments": {},
   "cell_type": "markdown",
   "metadata": {},
   "source": [
    "## 2. Perform real-time inference"
   ]
  },
  {
   "attachments": {},
   "cell_type": "markdown",
   "metadata": {},
   "source": [
    "If you want to understand how real-time inference with Amazon Bedrock works, see the [Amazon Bedrock Documentation](https://docs.aws.amazon.com/bedrock)."
   ]
  },
  {
   "attachments": {},
   "cell_type": "markdown",
   "metadata": {},
   "source": [
    "### A. Create a Cohere AWS Client"
   ]
  },
  {
   "cell_type": "code",
   "execution_count": null,
   "metadata": {},
   "outputs": [],
   "source": [
    "!pip install --upgrade cohere-aws\n",
    "# if you upgrade the package, you need to restart the kernel\n",
    "\n",
    "import cohere_aws\n",
    "import boto3\n",
    "\n",
    "co = cohere_aws.Client(mode=cohere_aws.Mode.BEDROCK)"
   ]
  },
  {
   "attachments": {},
   "cell_type": "markdown",
   "metadata": {},
   "source": [
    "### B. Create input payload"
   ]
  },
  {
   "cell_type": "code",
   "execution_count": null,
   "metadata": {},
   "outputs": [],
   "source": [
    "message = \"Write a LinkedIn post about starting a career in tech:\""
   ]
  },
  {
   "attachments": {},
   "cell_type": "markdown",
   "metadata": {},
   "source": [
    "### C. Perform real-time inference"
   ]
  },
  {
   "cell_type": "code",
   "execution_count": null,
   "metadata": {},
   "outputs": [],
   "source": [
    "response = co.chat(message=message, model_id=\"cohere.command-r-v1:0\", stream=False)"
   ]
  },
  {
   "attachments": {},
   "cell_type": "markdown",
   "metadata": {},
   "source": [
    "### D. Visualize output"
   ]
  },
  {
   "cell_type": "code",
   "execution_count": null,
   "metadata": {},
   "outputs": [],
   "source": [
    "print(response)"
   ]
  },
  {
   "cell_type": "markdown",
   "metadata": {},
   "source": [
    "### E. Stream output"
   ]
  },
  {
   "cell_type": "code",
   "execution_count": null,
   "metadata": {},
   "outputs": [],
   "source": [
    "message = \"Write a LinkedIn post about starting a career in tech:\"\n",
    "\n",
    "response = co.chat(message=message, model_id=\"cohere.command-r-v1:0\", stream=True)\n",
    "\n",
    "# stream events back\n",
    "for res in response:\n",
    "    print(res)"
   ]
  },
  {
   "cell_type": "markdown",
   "metadata": {},
   "source": [
    "## 3. Sample use cases"
   ]
  },
  {
   "attachments": {},
   "cell_type": "markdown",
   "metadata": {},
   "source": [
    "### A. Chat with documents (RAG)"
   ]
  },
  {
   "cell_type": "code",
   "execution_count": null,
   "metadata": {},
   "outputs": [],
   "source": [
    "message=\"How deep in the Mariana Trench\"\n",
    "documents = [\n",
    "    {\n",
    "       \"id\": \"national_geographic_everest\",\n",
    "       \"title\": \"Height of Mount Everest\",\n",
    "       \"snippet\": \"The height of Mount Everest is 29,035 feet\",\n",
    "       \"url\": \"https://education.nationalgeographic.org/resource/mount-everest/\",\n",
    "    },\n",
    "    {\n",
    "        \"id\": \"national_geographic_mariana\",\n",
    "        \"title\": \"Depth of the Mariana Trench\",\n",
    "        \"snippet\": \"The depth of the Mariana Trench is 36,070 feet\",\n",
    "        \"url\": \"https://www.nationalgeographic.org/activity/mariana-trench-deepest-place-earth\",\n",
    "    }\n",
    "]\n",
    "\n",
    "response = co.chat(message=message, model_id=\"cohere.command-r-v1:0\", documents=documents, stream=False)\n",
    "\n",
    "print(response)"
   ]
  },
  {
   "attachments": {},
   "cell_type": "markdown",
   "metadata": {},
   "source": [
    "### B. Generate search queries"
   ]
  },
  {
   "cell_type": "code",
   "execution_count": null,
   "metadata": {},
   "outputs": [],
   "source": [
    "message=\"What is the height of Mount Everest?\"\n",
    "\n",
    "response = co.chat(message=message, model_id=\"cohere.command-r-v1:0\", search_queries_only=True, stream=False)\n",
    "\n",
    "print(response)"
   ]
  },
  {
   "attachments": {},
   "cell_type": "markdown",
   "metadata": {},
   "source": [
    "### C. Tool inputs"
   ]
  },
  {
   "cell_type": "code",
   "execution_count": null,
   "metadata": {},
   "outputs": [],
   "source": [
    "message=\"What were sales like on October 31st?\"\n",
    "tools=[\n",
    "    {\n",
    "        \"name\": \"sales_database\",\n",
    "        \"description\": \"Connects to a database about sales volumes\",\n",
    "        \"parameter_definitions\": {\n",
    "            \"day\": {\n",
    "                \"description\": \"Retrieves sales data from this day, formatted as YYYY-MM-DD\",\n",
    "                \"type\": \"str\",\n",
    "                \"required\": True\n",
    "            }\n",
    "        }\n",
    "    }\n",
    "]\n",
    "\n",
    "response = co.chat(message=message, model_id=\"cohere.command-r-v1:0\", tools=tools, stream=False)\n",
    "\n",
    "print(response)"
   ]
  },
  {
   "cell_type": "markdown",
   "metadata": {},
   "source": [
    "### D. Tool results"
   ]
  },
  {
   "cell_type": "code",
   "execution_count": null,
   "metadata": {},
   "outputs": [],
   "source": [
    "message=\"What were sales like on October 31st?\"\n",
    "tools=[\n",
    "    {\n",
    "        \"name\": \"sales_database\",\n",
    "        \"description\": \"Connects to a database about sales volumes\",\n",
    "        \"parameter_definitions\": {\n",
    "            \"day\": {\n",
    "                \"description\": \"Retrieves sales data from this day, formatted as YYYY-MM-DD\",\n",
    "                \"type\": \"str\",\n",
    "                \"required\": True\n",
    "            }\n",
    "        }\n",
    "    }\n",
    "]\n",
    "tool_results=[\n",
    "    {\n",
    "        \"call\": {\n",
    "            \"name\": \"sales_database\",\n",
    "            \"parameters\": {\n",
    "                \"day\": \"2023-04-08\"\n",
    "            }\n",
    "        },\n",
    "        \"outputs\": [{\"number_of_sales\": 120, \"total_revenue\": 48500, \"day\": \"2023-04-08\"}]\n",
    "    }\n",
    "]\n",
    "\n",
    "response = co.chat(message=message, model_id=\"cohere.command-r-v1:0\", tools=tools, tool_results=tool_results, stream=False)\n",
    "\n",
    "print(response)"
   ]
  },
  {
   "attachments": {},
   "cell_type": "markdown",
   "metadata": {},
   "source": [
    "## 4. Clean up"
   ]
  },
  {
   "attachments": {},
   "cell_type": "markdown",
   "metadata": {},
   "source": [
    "### A. Unsubscribe from the listing (optional)"
   ]
  },
  {
   "attachments": {},
   "cell_type": "markdown",
   "metadata": {},
   "source": [
    "**Steps to unsubscribe to product from AWS Marketplace**:\n",
    "1. Navigate to __SaaS__ tab on [__Your Software subscriptions page__](https://aws.amazon.com/marketplace/ai/library?productType=ml&ref_=mlmp_gitdemo_indust)\n",
    "2. Locate the listing that you want to cancel the subscription for, and then choose __Cancel Subscription__  to cancel the subscription.\n",
    "\n"
   ]
  }
 ],
 "metadata": {
  "instance_type": "ml.t3.medium",
  "kernelspec": {
   "display_name": "Python 3",
   "language": "python",
   "name": "python3"
  },
  "language_info": {
   "codemirror_mode": {
    "name": "ipython",
    "version": 3
   },
   "file_extension": ".py",
   "mimetype": "text/x-python",
   "name": "python",
   "nbconvert_exporter": "python",
   "pygments_lexer": "ipython3",
   "version": "3.9.6"
  },
  "vscode": {
   "interpreter": {
    "hash": "b0fa6594d8f4cbf19f97940f81e996739fb7646882a419484c72d19e05852a7e"
   }
  }
 },
 "nbformat": 4,
 "nbformat_minor": 4
}
