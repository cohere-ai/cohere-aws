{
 "cells": [
  {
   "attachments": {},
   "cell_type": "markdown",
   "metadata": {},
   "source": [
    "# Query Cohere Embedding Models from AWS Bedrock \n",
    "\n",
    "\n",
    "Cohere builds a collection of Large Language Models (LLMs) trained on a massive corpus of curated web data. Powering these models, our infrastructure enables our product to be deployed for a wide range of use cases. The use cases we power include generation (copy writing, etc), summarization, classification, content moderation, information extraction, semantic search, and contextual entity extraction\n",
    "\n",
    "This sample notebook shows you how to query [cohere-gpt-xlarge](https://aws.amazon.com/marketplace/pp/prodview-r6zvppobprqmy) using Amazon Bedrock.\n",
    "\n",
    "> **Note**: This is a reference notebook and it cannot run unless you make changes suggested in the notebook.\n",
    "\n",
    "## Contents:\n",
    "1. [Subscribe to Amazon Bedrock](#1.-Subscribe-to-Amazon-Bedrock)\n",
    "2. [Perform real-time inference](#2.-Perform-real-time-inference)\n",
    "   1. [Create a Cohere AWS Client](#A.-Create-a-Cohere-AWS-Client)\n",
    "   2. [Create input payload](#B.-Create-input-payload)\n",
    "   3. [Perform real-time inference](#C.-Perform-real-time-inference)\n",
    "   4. [Visualize output](#D.-Visualize-output)\n",
    "3. [Sample use case](#3.-Sample-use-cases) \n",
    "   1. [Find the most and least similar texts](#A.-find-the-most-and-least-similar-texts)\n",
    "4. [Clean up](#4.-Clean-up)\n",
    "   1. [Unsubscribe from the listing (optional)](#A.-Unsubscribe-from-the-listing-(optional))\n",
    "\n",
    "## Usage instructions\n",
    "You can run this notebook one cell at a time (By using Shift+Enter for running a cell)."
   ]
  },
  {
   "attachments": {},
   "cell_type": "markdown",
   "metadata": {},
   "source": [
    "## 1. Subscribe to Amazon Bedrock"
   ]
  },
  {
   "attachments": {},
   "cell_type": "markdown",
   "metadata": {},
   "source": [
    "Follow the instructions in the [Amazon Bedrock](https://console.aws.amazon.com/bedrock) console.\n"
   ]
  },
  {
   "attachments": {},
   "cell_type": "markdown",
   "metadata": {},
   "source": [
    "## 2. Perform real-time inference"
   ]
  },
  {
   "attachments": {},
   "cell_type": "markdown",
   "metadata": {},
   "source": [
    "If you want to understand how real-time inference with Amazon Bedrock works, see the [Amazon Bedrock Documentation](https://docs.aws.amazon.com/bedrock)."
   ]
  },
  {
   "attachments": {},
   "cell_type": "markdown",
   "metadata": {},
   "source": [
    "### A. Create a Cohere AWS Client"
   ]
  },
  {
   "cell_type": "code",
   "execution_count": 4,
   "metadata": {},
   "outputs": [
    {
     "name": "stdout",
     "output_type": "stream",
     "text": [
      "\u001b[33mDEPRECATION: Loading egg at /opt/homebrew/lib/python3.11/site-packages/tzdata-2023.3-py3.11.egg is deprecated. pip 23.3 will enforce this behaviour change. A possible replacement is to use pip for package installation..\u001b[0m\u001b[33m\n",
      "\u001b[0m\u001b[33mDEPRECATION: Loading egg at /opt/homebrew/lib/python3.11/site-packages/schema-0.7.5-py3.11.egg is deprecated. pip 23.3 will enforce this behaviour change. A possible replacement is to use pip for package installation..\u001b[0m\u001b[33m\n",
      "\u001b[0m\u001b[33mDEPRECATION: Loading egg at /opt/homebrew/lib/python3.11/site-packages/pytz-2023.3.post1-py3.11.egg is deprecated. pip 23.3 will enforce this behaviour change. A possible replacement is to use pip for package installation..\u001b[0m\u001b[33m\n",
      "\u001b[0m\u001b[33mDEPRECATION: Loading egg at /opt/homebrew/lib/python3.11/site-packages/requests-2.31.0-py3.11.egg is deprecated. pip 23.3 will enforce this behaviour change. A possible replacement is to use pip for package installation..\u001b[0m\u001b[33m\n",
      "\u001b[0m\u001b[33mDEPRECATION: Loading egg at /opt/homebrew/lib/python3.11/site-packages/ppft-1.7.6.7-py3.11.egg is deprecated. pip 23.3 will enforce this behaviour change. A possible replacement is to use pip for package installation..\u001b[0m\u001b[33m\n",
      "\u001b[0m\u001b[33mDEPRECATION: Loading egg at /opt/homebrew/lib/python3.11/site-packages/six-1.16.0-py3.11.egg is deprecated. pip 23.3 will enforce this behaviour change. A possible replacement is to use pip for package installation..\u001b[0m\u001b[33m\n",
      "\u001b[0m\u001b[33mDEPRECATION: Loading egg at /opt/homebrew/lib/python3.11/site-packages/packaging-23.1-py3.11.egg is deprecated. pip 23.3 will enforce this behaviour change. A possible replacement is to use pip for package installation..\u001b[0m\u001b[33m\n",
      "\u001b[0m\u001b[33mDEPRECATION: Loading egg at /opt/homebrew/lib/python3.11/site-packages/sagemaker-2.187.0-py3.11.egg is deprecated. pip 23.3 will enforce this behaviour change. A possible replacement is to use pip for package installation..\u001b[0m\u001b[33m\n",
      "\u001b[0m\u001b[33mDEPRECATION: Loading egg at /opt/homebrew/lib/python3.11/site-packages/jsonschema_specifications-2023.7.1-py3.11.egg is deprecated. pip 23.3 will enforce this behaviour change. A possible replacement is to use pip for package installation..\u001b[0m\u001b[33m\n",
      "\u001b[0m\u001b[33mDEPRECATION: Loading egg at /opt/homebrew/lib/python3.11/site-packages/contextlib2-21.6.0-py3.11.egg is deprecated. pip 23.3 will enforce this behaviour change. A possible replacement is to use pip for package installation..\u001b[0m\u001b[33m\n",
      "\u001b[0m\u001b[33mDEPRECATION: Loading egg at /opt/homebrew/lib/python3.11/site-packages/numpy-1.26.0-py3.11-macosx-13-arm64.egg is deprecated. pip 23.3 will enforce this behaviour change. A possible replacement is to use pip for package installation..\u001b[0m\u001b[33m\n",
      "\u001b[0m\u001b[33mDEPRECATION: Loading egg at /opt/homebrew/lib/python3.11/site-packages/rpds_py-0.10.3-py3.11-macosx-13-arm64.egg is deprecated. pip 23.3 will enforce this behaviour change. A possible replacement is to use pip for package installation..\u001b[0m\u001b[33m\n",
      "\u001b[0m\u001b[33mDEPRECATION: Loading egg at /opt/homebrew/lib/python3.11/site-packages/certifi-2023.7.22-py3.11.egg is deprecated. pip 23.3 will enforce this behaviour change. A possible replacement is to use pip for package installation..\u001b[0m\u001b[33m\n",
      "\u001b[0m\u001b[33mDEPRECATION: Loading egg at /opt/homebrew/lib/python3.11/site-packages/python_dateutil-2.8.2-py3.11.egg is deprecated. pip 23.3 will enforce this behaviour change. A possible replacement is to use pip for package installation..\u001b[0m\u001b[33m\n",
      "\u001b[0m\u001b[33mDEPRECATION: Loading egg at /opt/homebrew/lib/python3.11/site-packages/google_pasta-0.2.0-py3.11.egg is deprecated. pip 23.3 will enforce this behaviour change. A possible replacement is to use pip for package installation..\u001b[0m\u001b[33m\n",
      "\u001b[0m\u001b[33mDEPRECATION: Loading egg at /opt/homebrew/lib/python3.11/site-packages/multiprocess-0.70.15-py3.11.egg is deprecated. pip 23.3 will enforce this behaviour change. A possible replacement is to use pip for package installation..\u001b[0m\u001b[33m\n",
      "\u001b[0m\u001b[33mDEPRECATION: Loading egg at /opt/homebrew/lib/python3.11/site-packages/protobuf-4.24.3-py3.11-macosx-13-arm64.egg is deprecated. pip 23.3 will enforce this behaviour change. A possible replacement is to use pip for package installation..\u001b[0m\u001b[33m\n",
      "\u001b[0m\u001b[33mDEPRECATION: Loading egg at /opt/homebrew/lib/python3.11/site-packages/zipp-3.17.0-py3.11.egg is deprecated. pip 23.3 will enforce this behaviour change. A possible replacement is to use pip for package installation..\u001b[0m\u001b[33m\n",
      "\u001b[0m\u001b[33mDEPRECATION: Loading egg at /opt/homebrew/lib/python3.11/site-packages/dill-0.3.7-py3.11.egg is deprecated. pip 23.3 will enforce this behaviour change. A possible replacement is to use pip for package installation..\u001b[0m\u001b[33m\n",
      "\u001b[0m\u001b[33mDEPRECATION: Loading egg at /opt/homebrew/lib/python3.11/site-packages/pox-0.3.3-py3.11.egg is deprecated. pip 23.3 will enforce this behaviour change. A possible replacement is to use pip for package installation..\u001b[0m\u001b[33m\n",
      "\u001b[0m\u001b[33mDEPRECATION: Loading egg at /opt/homebrew/lib/python3.11/site-packages/urllib3-2.0.4-py3.11.egg is deprecated. pip 23.3 will enforce this behaviour change. A possible replacement is to use pip for package installation..\u001b[0m\u001b[33m\n",
      "\u001b[0m\u001b[33mDEPRECATION: Loading egg at /opt/homebrew/lib/python3.11/site-packages/importlib_metadata-6.8.0-py3.11.egg is deprecated. pip 23.3 will enforce this behaviour change. A possible replacement is to use pip for package installation..\u001b[0m\u001b[33m\n",
      "\u001b[0m\u001b[33mDEPRECATION: Loading egg at /opt/homebrew/lib/python3.11/site-packages/smdebug_rulesconfig-1.0.1-py3.11.egg is deprecated. pip 23.3 will enforce this behaviour change. A possible replacement is to use pip for package installation..\u001b[0m\u001b[33m\n",
      "\u001b[0m\u001b[33mDEPRECATION: Loading egg at /opt/homebrew/lib/python3.11/site-packages/pandas-2.1.0-py3.11-macosx-13-arm64.egg is deprecated. pip 23.3 will enforce this behaviour change. A possible replacement is to use pip for package installation..\u001b[0m\u001b[33m\n",
      "\u001b[0m\u001b[33mDEPRECATION: Loading egg at /opt/homebrew/lib/python3.11/site-packages/idna-3.4-py3.11.egg is deprecated. pip 23.3 will enforce this behaviour change. A possible replacement is to use pip for package installation..\u001b[0m\u001b[33m\n",
      "\u001b[0m\u001b[33mDEPRECATION: Loading egg at /opt/homebrew/lib/python3.11/site-packages/charset_normalizer-3.2.0-py3.11.egg is deprecated. pip 23.3 will enforce this behaviour change. A possible replacement is to use pip for package installation..\u001b[0m\u001b[33m\n",
      "\u001b[0m\u001b[33mDEPRECATION: Loading egg at /opt/homebrew/lib/python3.11/site-packages/botocore-1.31.62-py3.11.egg is deprecated. pip 23.3 will enforce this behaviour change. A possible replacement is to use pip for package installation..\u001b[0m\u001b[33m\n",
      "\u001b[0m\u001b[33mDEPRECATION: Loading egg at /opt/homebrew/lib/python3.11/site-packages/boto3-1.28.62-py3.11.egg is deprecated. pip 23.3 will enforce this behaviour change. A possible replacement is to use pip for package installation..\u001b[0m\u001b[33m\n",
      "\u001b[0m\u001b[33mDEPRECATION: Loading egg at /opt/homebrew/lib/python3.11/site-packages/tblib-1.7.0-py3.11.egg is deprecated. pip 23.3 will enforce this behaviour change. A possible replacement is to use pip for package installation..\u001b[0m\u001b[33m\n",
      "\u001b[0m\u001b[33mDEPRECATION: Loading egg at /opt/homebrew/lib/python3.11/site-packages/jsonschema-4.19.0-py3.11.egg is deprecated. pip 23.3 will enforce this behaviour change. A possible replacement is to use pip for package installation..\u001b[0m\u001b[33m\n",
      "\u001b[0m\u001b[33mDEPRECATION: Loading egg at /opt/homebrew/lib/python3.11/site-packages/attrs-23.1.0-py3.11.egg is deprecated. pip 23.3 will enforce this behaviour change. A possible replacement is to use pip for package installation..\u001b[0m\u001b[33m\n",
      "\u001b[0m\u001b[33mDEPRECATION: Loading egg at /opt/homebrew/lib/python3.11/site-packages/cloudpickle-2.2.1-py3.11.egg is deprecated. pip 23.3 will enforce this behaviour change. A possible replacement is to use pip for package installation..\u001b[0m\u001b[33m\n",
      "\u001b[0m\u001b[33mDEPRECATION: Loading egg at /opt/homebrew/lib/python3.11/site-packages/jmespath-1.0.1-py3.11.egg is deprecated. pip 23.3 will enforce this behaviour change. A possible replacement is to use pip for package installation..\u001b[0m\u001b[33m\n",
      "\u001b[0m\u001b[33mDEPRECATION: Loading egg at /opt/homebrew/lib/python3.11/site-packages/pathos-0.3.1-py3.11.egg is deprecated. pip 23.3 will enforce this behaviour change. A possible replacement is to use pip for package installation..\u001b[0m\u001b[33m\n",
      "\u001b[0m\u001b[33mDEPRECATION: Loading egg at /opt/homebrew/lib/python3.11/site-packages/PyYAML-6.0.1-py3.11-macosx-13-arm64.egg is deprecated. pip 23.3 will enforce this behaviour change. A possible replacement is to use pip for package installation..\u001b[0m\u001b[33m\n",
      "\u001b[0m\u001b[33mDEPRECATION: Loading egg at /opt/homebrew/lib/python3.11/site-packages/platformdirs-3.10.0-py3.11.egg is deprecated. pip 23.3 will enforce this behaviour change. A possible replacement is to use pip for package installation..\u001b[0m\u001b[33m\n",
      "\u001b[0m\u001b[33mDEPRECATION: Loading egg at /opt/homebrew/lib/python3.11/site-packages/cohere_sagemaker-0.8.1-py3.11-macosx-13-arm64.egg is deprecated. pip 23.3 will enforce this behaviour change. A possible replacement is to use pip for package installation..\u001b[0m\u001b[33m\n",
      "\u001b[0m\u001b[33mDEPRECATION: Loading egg at /opt/homebrew/lib/python3.11/site-packages/referencing-0.30.2-py3.11.egg is deprecated. pip 23.3 will enforce this behaviour change. A possible replacement is to use pip for package installation..\u001b[0m\u001b[33m\n",
      "\u001b[0m\u001b[33mDEPRECATION: Loading egg at /opt/homebrew/lib/python3.11/site-packages/s3transfer-0.7.0-py3.11.egg is deprecated. pip 23.3 will enforce this behaviour change. A possible replacement is to use pip for package installation..\u001b[0m\u001b[33m\n",
      "\u001b[0mRequirement already satisfied: cohere-aws in /opt/homebrew/lib/python3.11/site-packages (0.8.9)\n",
      "Requirement already satisfied: boto3>=1.28.57 in /opt/homebrew/lib/python3.11/site-packages/boto3-1.28.62-py3.11.egg (from cohere-aws) (1.28.62)\n",
      "Requirement already satisfied: sagemaker in /opt/homebrew/lib/python3.11/site-packages/sagemaker-2.187.0-py3.11.egg (from cohere-aws) (2.187.0)\n",
      "Requirement already satisfied: botocore<1.32.0,>=1.31.62 in /opt/homebrew/lib/python3.11/site-packages/botocore-1.31.62-py3.11.egg (from boto3>=1.28.57->cohere-aws) (1.31.62)\n",
      "Requirement already satisfied: jmespath<2.0.0,>=0.7.1 in /opt/homebrew/lib/python3.11/site-packages/jmespath-1.0.1-py3.11.egg (from boto3>=1.28.57->cohere-aws) (1.0.1)\n",
      "Requirement already satisfied: s3transfer<0.8.0,>=0.7.0 in /opt/homebrew/lib/python3.11/site-packages/s3transfer-0.7.0-py3.11.egg (from boto3>=1.28.57->cohere-aws) (0.7.0)\n",
      "Requirement already satisfied: attrs<24,>=23.1.0 in /opt/homebrew/lib/python3.11/site-packages/attrs-23.1.0-py3.11.egg (from sagemaker->cohere-aws) (23.1.0)\n",
      "Requirement already satisfied: cloudpickle==2.2.1 in /opt/homebrew/lib/python3.11/site-packages/cloudpickle-2.2.1-py3.11.egg (from sagemaker->cohere-aws) (2.2.1)\n",
      "Requirement already satisfied: google-pasta in /opt/homebrew/lib/python3.11/site-packages/google_pasta-0.2.0-py3.11.egg (from sagemaker->cohere-aws) (0.2.0)\n",
      "Requirement already satisfied: numpy<2.0,>=1.9.0 in /opt/homebrew/lib/python3.11/site-packages/numpy-1.26.0-py3.11-macosx-13-arm64.egg (from sagemaker->cohere-aws) (1.26.0)\n",
      "Requirement already satisfied: protobuf<5.0,>=3.12 in /opt/homebrew/lib/python3.11/site-packages/protobuf-4.24.3-py3.11-macosx-13-arm64.egg (from sagemaker->cohere-aws) (4.24.3)\n",
      "Requirement already satisfied: smdebug_rulesconfig==1.0.1 in /opt/homebrew/lib/python3.11/site-packages/smdebug_rulesconfig-1.0.1-py3.11.egg (from sagemaker->cohere-aws) (1.0.1)\n",
      "Requirement already satisfied: importlib-metadata<7.0,>=1.4.0 in /opt/homebrew/lib/python3.11/site-packages/importlib_metadata-6.8.0-py3.11.egg (from sagemaker->cohere-aws) (6.8.0)\n",
      "Requirement already satisfied: packaging>=20.0 in /opt/homebrew/lib/python3.11/site-packages/packaging-23.1-py3.11.egg (from sagemaker->cohere-aws) (23.1)\n",
      "Requirement already satisfied: pandas in /opt/homebrew/lib/python3.11/site-packages/pandas-2.1.0-py3.11-macosx-13-arm64.egg (from sagemaker->cohere-aws) (2.1.0)\n",
      "Requirement already satisfied: pathos in /opt/homebrew/lib/python3.11/site-packages/pathos-0.3.1-py3.11.egg (from sagemaker->cohere-aws) (0.3.1)\n",
      "Requirement already satisfied: schema in /opt/homebrew/lib/python3.11/site-packages/schema-0.7.5-py3.11.egg (from sagemaker->cohere-aws) (0.7.5)\n",
      "Requirement already satisfied: PyYAML~=6.0 in /opt/homebrew/lib/python3.11/site-packages/PyYAML-6.0.1-py3.11-macosx-13-arm64.egg (from sagemaker->cohere-aws) (6.0.1)\n",
      "Requirement already satisfied: jsonschema in /opt/homebrew/lib/python3.11/site-packages/jsonschema-4.19.0-py3.11.egg (from sagemaker->cohere-aws) (4.19.0)\n",
      "Requirement already satisfied: platformdirs in /opt/homebrew/lib/python3.11/site-packages/platformdirs-3.10.0-py3.11.egg (from sagemaker->cohere-aws) (3.10.0)\n",
      "Requirement already satisfied: tblib==1.7.0 in /opt/homebrew/lib/python3.11/site-packages/tblib-1.7.0-py3.11.egg (from sagemaker->cohere-aws) (1.7.0)\n",
      "Requirement already satisfied: python-dateutil<3.0.0,>=2.1 in /opt/homebrew/lib/python3.11/site-packages/python_dateutil-2.8.2-py3.11.egg (from botocore<1.32.0,>=1.31.62->boto3>=1.28.57->cohere-aws) (2.8.2)\n",
      "Requirement already satisfied: urllib3<2.1,>=1.25.4 in /opt/homebrew/lib/python3.11/site-packages/urllib3-2.0.4-py3.11.egg (from botocore<1.32.0,>=1.31.62->boto3>=1.28.57->cohere-aws) (2.0.4)\n",
      "Requirement already satisfied: zipp>=0.5 in /opt/homebrew/lib/python3.11/site-packages/zipp-3.17.0-py3.11.egg (from importlib-metadata<7.0,>=1.4.0->sagemaker->cohere-aws) (3.17.0)\n",
      "Requirement already satisfied: six in /opt/homebrew/lib/python3.11/site-packages/six-1.16.0-py3.11.egg (from google-pasta->sagemaker->cohere-aws) (1.16.0)\n",
      "Requirement already satisfied: jsonschema-specifications>=2023.03.6 in /opt/homebrew/lib/python3.11/site-packages/jsonschema_specifications-2023.7.1-py3.11.egg (from jsonschema->sagemaker->cohere-aws) (2023.7.1)\n",
      "Requirement already satisfied: referencing>=0.28.4 in /opt/homebrew/lib/python3.11/site-packages/referencing-0.30.2-py3.11.egg (from jsonschema->sagemaker->cohere-aws) (0.30.2)\n",
      "Requirement already satisfied: rpds-py>=0.7.1 in /opt/homebrew/lib/python3.11/site-packages/rpds_py-0.10.3-py3.11-macosx-13-arm64.egg (from jsonschema->sagemaker->cohere-aws) (0.10.3)\n",
      "Requirement already satisfied: pytz>=2020.1 in /opt/homebrew/lib/python3.11/site-packages/pytz-2023.3.post1-py3.11.egg (from pandas->sagemaker->cohere-aws) (2023.3.post1)\n",
      "Requirement already satisfied: tzdata>=2022.1 in /opt/homebrew/lib/python3.11/site-packages/tzdata-2023.3-py3.11.egg (from pandas->sagemaker->cohere-aws) (2023.3)\n",
      "Requirement already satisfied: ppft>=1.7.6.7 in /opt/homebrew/lib/python3.11/site-packages/ppft-1.7.6.7-py3.11.egg (from pathos->sagemaker->cohere-aws) (1.7.6.7)\n",
      "Requirement already satisfied: dill>=0.3.7 in /opt/homebrew/lib/python3.11/site-packages/dill-0.3.7-py3.11.egg (from pathos->sagemaker->cohere-aws) (0.3.7)\n",
      "Requirement already satisfied: pox>=0.3.3 in /opt/homebrew/lib/python3.11/site-packages/pox-0.3.3-py3.11.egg (from pathos->sagemaker->cohere-aws) (0.3.3)\n",
      "Requirement already satisfied: multiprocess>=0.70.15 in /opt/homebrew/lib/python3.11/site-packages/multiprocess-0.70.15-py3.11.egg (from pathos->sagemaker->cohere-aws) (0.70.15)\n",
      "Requirement already satisfied: contextlib2>=0.5.5 in /opt/homebrew/lib/python3.11/site-packages/contextlib2-21.6.0-py3.11.egg (from schema->sagemaker->cohere-aws) (21.6.0)\n",
      "\n",
      "\u001b[1m[\u001b[0m\u001b[34;49mnotice\u001b[0m\u001b[1;39;49m]\u001b[0m\u001b[39;49m A new release of pip is available: \u001b[0m\u001b[31;49m23.2.1\u001b[0m\u001b[39;49m -> \u001b[0m\u001b[32;49m23.3.1\u001b[0m\n",
      "\u001b[1m[\u001b[0m\u001b[34;49mnotice\u001b[0m\u001b[1;39;49m]\u001b[0m\u001b[39;49m To update, run: \u001b[0m\u001b[32;49mpython3.11 -m pip install --upgrade pip\u001b[0m\n",
      "Note: you may need to restart the kernel to use updated packages.\n",
      "sagemaker.config INFO - Not applying SDK defaults from location: /Library/Application Support/sagemaker/config.yaml\n",
      "sagemaker.config INFO - Not applying SDK defaults from location: /Users/leila/Library/Application Support/sagemaker/config.yaml\n"
     ]
    }
   ],
   "source": [
    "!pip install --upgrade cohere-aws\n",
    "# if you upgrade the package, you need to restart the kernel\n",
    "\n",
    "import cohere_aws\n",
    "import boto3\n",
    "\n",
    "co = cohere_aws.Client(mode=cohere_aws.Mode.BEDROCK)"
   ]
  },
  {
   "attachments": {},
   "cell_type": "markdown",
   "metadata": {},
   "source": [
    "### B. Create input payload"
   ]
  },
  {
   "cell_type": "code",
   "execution_count": 9,
   "metadata": {},
   "outputs": [],
   "source": [
    "# Hacker News post titles\n",
    "texts = [\"Interesting (Non software) books?\",\n",
    "         \"Non-tech books that have helped you grow professionally?\",\n",
    "         \"I sold my company last month for $5m. What do I do with the money?\",\n",
    "         \"How are you getting through (and back from) burning out?\",\n",
    "         \"I made $24k over the last month. Now what?\",\n",
    "         \"What kind of personal financial investment do you do?\",\n",
    "         \"Should I quit the field of software development?\"]\n",
    "input_type = \"clustering\"\n",
    "model_id = \"cohere.embed-english-v3\" # or \"cohere.embed-multilingual-v3\""
   ]
  },
  {
   "attachments": {},
   "cell_type": "markdown",
   "metadata": {},
   "source": [
    "### C. Perform real-time inference"
   ]
  },
  {
   "cell_type": "code",
   "execution_count": 6,
   "metadata": {},
   "outputs": [
    {
     "ename": "CohereError",
     "evalue": "'BedrockRuntime' object has no attribute 'invoke_endpoint'",
     "output_type": "error",
     "traceback": [
      "\u001b[0;31m---------------------------------------------------------------------------\u001b[0m",
      "\u001b[0;31mAttributeError\u001b[0m                            Traceback (most recent call last)",
      "File \u001b[0;32m/opt/homebrew/lib/python3.11/site-packages/cohere_aws/client.py:371\u001b[0m, in \u001b[0;36mClient._bedrock_embed\u001b[0;34m(self, json_params, model_id)\u001b[0m\n\u001b[1;32m    370\u001b[0m \u001b[39mtry\u001b[39;00m:\n\u001b[0;32m--> 371\u001b[0m     result \u001b[39m=\u001b[39m \u001b[39mself\u001b[39;49m\u001b[39m.\u001b[39;49m_client\u001b[39m.\u001b[39;49minvoke_endpoint(\u001b[39m*\u001b[39m\u001b[39m*\u001b[39mparams)\n\u001b[1;32m    372\u001b[0m     response \u001b[39m=\u001b[39m json\u001b[39m.\u001b[39mloads(result[\u001b[39m'\u001b[39m\u001b[39mbody\u001b[39m\u001b[39m'\u001b[39m]\u001b[39m.\u001b[39mread()\u001b[39m.\u001b[39mdecode())\n",
      "File \u001b[0;32m/opt/homebrew/lib/python3.11/site-packages/botocore/client.py:888\u001b[0m, in \u001b[0;36mBaseClient.__getattr__\u001b[0;34m(self, item)\u001b[0m\n\u001b[1;32m    886\u001b[0m     \u001b[39mreturn\u001b[39;00m event_response\n\u001b[0;32m--> 888\u001b[0m \u001b[39mraise\u001b[39;00m \u001b[39mAttributeError\u001b[39;00m(\n\u001b[1;32m    889\u001b[0m     \u001b[39mf\u001b[39m\u001b[39m\"\u001b[39m\u001b[39m'\u001b[39m\u001b[39m{\u001b[39;00m\u001b[39mself\u001b[39m\u001b[39m.\u001b[39m\u001b[39m__class__\u001b[39m\u001b[39m.\u001b[39m\u001b[39m__name__\u001b[39m\u001b[39m}\u001b[39;00m\u001b[39m'\u001b[39m\u001b[39m object has no attribute \u001b[39m\u001b[39m'\u001b[39m\u001b[39m{\u001b[39;00mitem\u001b[39m}\u001b[39;00m\u001b[39m'\u001b[39m\u001b[39m\"\u001b[39m\n\u001b[1;32m    890\u001b[0m )\n",
      "\u001b[0;31mAttributeError\u001b[0m: 'BedrockRuntime' object has no attribute 'invoke_endpoint'",
      "\nDuring handling of the above exception, another exception occurred:\n",
      "\u001b[0;31mCohereError\u001b[0m                               Traceback (most recent call last)",
      "\u001b[1;32m/Users/leila/Documents/GitHub/cohere-aws/notebooks/bedrock/Query embed v3.ipynb Cell 11\u001b[0m line \u001b[0;36m1\n\u001b[0;32m----> <a href='vscode-notebook-cell:/Users/leila/Documents/GitHub/cohere-aws/notebooks/bedrock/Query%20embed%20v3.ipynb#X13sZmlsZQ%3D%3D?line=0'>1</a>\u001b[0m response \u001b[39m=\u001b[39m co\u001b[39m.\u001b[39;49membed(texts\u001b[39m=\u001b[39;49mtexts, input_type\u001b[39m=\u001b[39;49minput_type, model_id\u001b[39m=\u001b[39;49mmodel_id)\n",
      "File \u001b[0;32m/opt/homebrew/lib/python3.11/site-packages/cohere_aws/client.py:331\u001b[0m, in \u001b[0;36mClient.embed\u001b[0;34m(self, texts, truncate, variant, input_type, model_id)\u001b[0m\n\u001b[1;32m    329\u001b[0m     \u001b[39mreturn\u001b[39;00m \u001b[39mself\u001b[39m\u001b[39m.\u001b[39m_sagemaker_embed(json_params, variant)\n\u001b[1;32m    330\u001b[0m \u001b[39melif\u001b[39;00m \u001b[39mself\u001b[39m\u001b[39m.\u001b[39mmode \u001b[39m==\u001b[39m Mode\u001b[39m.\u001b[39mBEDROCK:\n\u001b[0;32m--> 331\u001b[0m     \u001b[39mreturn\u001b[39;00m \u001b[39mself\u001b[39;49m\u001b[39m.\u001b[39;49m_bedrock_embed(json_params, model_id)\n\u001b[1;32m    332\u001b[0m \u001b[39melse\u001b[39;00m:\n\u001b[1;32m    333\u001b[0m     \u001b[39mraise\u001b[39;00m CohereError(\u001b[39m\"\u001b[39m\u001b[39mUnsupported mode\u001b[39m\u001b[39m\"\u001b[39m)\n",
      "File \u001b[0;32m/opt/homebrew/lib/python3.11/site-packages/cohere_aws/client.py:378\u001b[0m, in \u001b[0;36mClient._bedrock_embed\u001b[0;34m(self, json_params, model_id)\u001b[0m\n\u001b[1;32m    374\u001b[0m     \u001b[39mraise\u001b[39;00m CohereError(\u001b[39mstr\u001b[39m(e))\n\u001b[1;32m    375\u001b[0m \u001b[39mexcept\u001b[39;00m \u001b[39mException\u001b[39;00m \u001b[39mas\u001b[39;00m e:\n\u001b[1;32m    376\u001b[0m     \u001b[39m# TODO should be client error - distinct type from CohereError?\u001b[39;00m\n\u001b[1;32m    377\u001b[0m     \u001b[39m# ValidationError, e.g. when variant is bad\u001b[39;00m\n\u001b[0;32m--> 378\u001b[0m     \u001b[39mraise\u001b[39;00m CohereError(\u001b[39mstr\u001b[39m(e))\n\u001b[1;32m    380\u001b[0m \u001b[39mreturn\u001b[39;00m Embeddings(response[\u001b[39m'\u001b[39m\u001b[39membeddings\u001b[39m\u001b[39m'\u001b[39m])\n",
      "\u001b[0;31mCohereError\u001b[0m: 'BedrockRuntime' object has no attribute 'invoke_endpoint'"
     ]
    }
   ],
   "source": [
    "response = co.embed(texts=texts, input_type=input_type, model_id=model_id)"
   ]
  },
  {
   "attachments": {},
   "cell_type": "markdown",
   "metadata": {},
   "source": [
    "### D. Visualize output"
   ]
  },
  {
   "cell_type": "code",
   "execution_count": 7,
   "metadata": {},
   "outputs": [
    {
     "ename": "NameError",
     "evalue": "name 'response' is not defined",
     "output_type": "error",
     "traceback": [
      "\u001b[0;31m---------------------------------------------------------------------------\u001b[0m",
      "\u001b[0;31mNameError\u001b[0m                                 Traceback (most recent call last)",
      "\u001b[1;32m/Users/leila/Documents/GitHub/cohere-aws/notebooks/bedrock/Query embed v3.ipynb Cell 13\u001b[0m line \u001b[0;36m1\n\u001b[0;32m----> <a href='vscode-notebook-cell:/Users/leila/Documents/GitHub/cohere-aws/notebooks/bedrock/Query%20embed%20v3.ipynb#X15sZmlsZQ%3D%3D?line=0'>1</a>\u001b[0m \u001b[39mprint\u001b[39m(response\u001b[39m.\u001b[39membeddings)\n",
      "\u001b[0;31mNameError\u001b[0m: name 'response' is not defined"
     ]
    }
   ],
   "source": [
    "for i in range(len(response.embeddings)):\n",
    "    print(f\"text: {reponse.texts[i]}\")\n",
    "    print(f\"embedding: {response.embeddings[i]}\")"
   ]
  },
  {
   "cell_type": "markdown",
   "metadata": {},
   "source": [
    "## 3. Sample use cases"
   ]
  },
  {
   "attachments": {},
   "cell_type": "markdown",
   "metadata": {},
   "source": [
    "### A. Find the most and least similar texts"
   ]
  },
  {
   "cell_type": "code",
   "execution_count": null,
   "metadata": {},
   "outputs": [],
   "source": [
    "from numpy import dot\n",
    "from numpy.linalg import norm\n",
    "\n",
    "def cosine_similarity(a, b):\n",
    "    return dot(a, b)/(norm(a)*norm(b))\n",
    "\n",
    "min_similarity = 1\n",
    "min_similarity_texts = ()\n",
    "max_similarity = 0\n",
    "max_similarity_texts = ()\n",
    "\n",
    "for i, emb1 in enumerate(response.embeddings[:-1]):\n",
    "    for j, emb2 in enumerate(response.embeddings[i + 1:]):\n",
    "        sim = cosine_similarity(emb1, emb2)\n",
    "        if sim < min_similarity:\n",
    "            min_similarity = sim\n",
    "            min_similarity_texts = (response.texts[i], response.texts[j])\n",
    "        if sim > max_similarity:\n",
    "            max_similarity = sim\n",
    "            max_similarity_texts = (response.texts[i], response.texts[j])\n",
    "\n",
    "print(f\"Most similar texts are {max_similarity_texts}\")\n",
    "print(f\"Least similar texts are {min_similarity_texts}\")"
   ]
  },
  {
   "attachments": {},
   "cell_type": "markdown",
   "metadata": {},
   "source": [
    "## 4. Clean up"
   ]
  },
  {
   "attachments": {},
   "cell_type": "markdown",
   "metadata": {},
   "source": [
    "### A. Unsubscribe from the listing (optional)"
   ]
  },
  {
   "attachments": {},
   "cell_type": "markdown",
   "metadata": {},
   "source": [
    "**Steps to unsubscribe to product from AWS Marketplace**:\n",
    "1. Navigate to __Machine Learning__ tab on [__Your Software subscriptions page__](https://aws.amazon.com/marketplace/ai/library?productType=ml&ref_=mlmp_gitdemo_indust)\n",
    "2. Locate the listing that you want to cancel the subscription for, and then choose __Cancel Subscription__  to cancel the subscription.\n",
    "\n"
   ]
  }
 ],
 "metadata": {
  "instance_type": "ml.t3.medium",
  "kernelspec": {
   "display_name": "Python 3",
   "language": "python",
   "name": "python3"
  },
  "language_info": {
   "codemirror_mode": {
    "name": "ipython",
    "version": 3
   },
   "file_extension": ".py",
   "mimetype": "text/x-python",
   "name": "python",
   "nbconvert_exporter": "python",
   "pygments_lexer": "ipython3",
   "version": "3.11.5"
  },
  "vscode": {
   "interpreter": {
    "hash": "b0fa6594d8f4cbf19f97940f81e996739fb7646882a419484c72d19e05852a7e"
   }
  }
 },
 "nbformat": 4,
 "nbformat_minor": 4
}
