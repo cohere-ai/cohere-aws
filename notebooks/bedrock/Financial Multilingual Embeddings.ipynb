{
 "cells": [
  {
   "cell_type": "markdown",
   "id": "3ea31db8-a39e-4667-90e9-b7e5edbfa51a",
   "metadata": {},
   "source": [
    "# Build Multilingual Financial Search Applications with Cohere - Code Walkthrough\n",
    "In the following use case example, we’ll showcase how Cohere’s Embed model can search and\n",
    "query across financial news in different languages in one unique pipeline. Finally, we’ll see how\n",
    "adding Rerank to our embeddings retrieval (or adding it to a legacy lexical search) can further\n",
    "improve our results."
   ]
  },
  {
   "cell_type": "markdown",
   "id": "734955e4-9fd1-4fb2-9839-c76b22dad070",
   "metadata": {},
   "source": [
    "### Step 0: Enable Model Access Through Amazon Bedrock"
   ]
  },
  {
   "cell_type": "markdown",
   "id": "5141dcea",
   "metadata": {},
   "source": [
    "Enable Model access through the [Amazon Console](https://console.aws.amazon.com/bedrock) following the instructions in the [Amazon Bedrock Documentation](https://docs.aws.amazon.com/bedrock/latest/userguide/model-access.html) console.\n",
    "\n",
    "For this walkthrough you will need to request access to the Cohere Embed Multilingual model."
   ]
  },
  {
   "cell_type": "markdown",
   "id": "494c504f-0886-4b29-8716-0a47e6450647",
   "metadata": {},
   "source": [
    "### Step 1: Install Packages and Import Modules"
   ]
  },
  {
   "cell_type": "code",
   "execution_count": null,
   "id": "bb2388da",
   "metadata": {},
   "outputs": [],
   "source": [
    "!pip install --upgrade cohere-aws hnswlib translate\n",
    "# if you upgrade the package, you need to restart the kernel"
   ]
  },
  {
   "cell_type": "code",
   "execution_count": null,
   "id": "be54602a-944d-43c4-a611-6f8f57285618",
   "metadata": {},
   "outputs": [],
   "source": [
    "import pandas as pd\n",
    "import cohere_aws\n",
    "import hnswlib\n",
    "from translate import Translator\n",
    "import warnings\n",
    "import os\n",
    "import re\n",
    "import boto3\n",
    "\n",
    "warnings.filterwarnings('ignore')"
   ]
  },
  {
   "cell_type": "markdown",
   "id": "ab9e4080-542b-4aad-94f4-6cf33789c792",
   "metadata": {},
   "source": [
    "### Step 2: Import Documents \n",
    "\n",
    "Information about MultiFIN can be found in its Github repo https://github.com/RasmusKaer/MultiFin. The repo contains a link to [Dropbox](https://www.dropbox.com/sh/v0fvtn5gnf4ij6f/AABPSV4NzHIRa8GwUfQ7kA0aa?dl=0) where the data can be downloaded.\n",
    "\n",
    "Download the file _MultiFinDataset2023.zip_, unzip the file and navigate into the folder _MultiFinDataset_EACL_ and then _0-all-languages-lowlevel_. It contains a _train.json_ file. Upload that file to your Jupyter SageMaker Notebook."
   ]
  },
  {
   "cell_type": "code",
   "execution_count": null,
   "id": "94c04e40-e8ca-4273-b4df-d5b8e01990d1",
   "metadata": {},
   "outputs": [],
   "source": [
    "# Read the data\n",
    "df = pd.read_json(\"./train.json\", lines=True)"
   ]
  },
  {
   "cell_type": "code",
   "execution_count": null,
   "id": "7197a0b7-f01e-46bd-ad2d-49395d119cd2",
   "metadata": {},
   "outputs": [],
   "source": [
    "# Inspect dataset\n",
    "df.head(5)"
   ]
  },
  {
   "cell_type": "code",
   "execution_count": null,
   "id": "327177dd-bc70-4259-b3d4-4b7a70eedd1e",
   "metadata": {},
   "outputs": [],
   "source": [
    "# check language distribution\n",
    "df['lang'].value_counts()"
   ]
  },
  {
   "cell_type": "markdown",
   "id": "0facfeb0-92e9-4709-b69f-1f2f60db7c43",
   "metadata": {},
   "source": [
    "### Step 3. Select List of Documents to Query"
   ]
  },
  {
   "cell_type": "code",
   "execution_count": null,
   "id": "fcbafe7d-db5b-4f3d-8234-0ec577761cdd",
   "metadata": {},
   "outputs": [],
   "source": [
    "# Ensure there is no duplicated text in the headers\n",
    "def remove_duplicates(text):\n",
    "    return re.sub(r'((\\b\\w+\\b.{1,2}\\w+\\b)+).+\\1', r'\\1', text, flags=re.I)\n",
    "\n",
    "df ['text'] = df['text'].apply(remove_duplicates)\n",
    "\n",
    "# Select languages\n",
    "languages = ['English', 'Spanish', 'Danish']\n",
    "top_80_df = df.loc[df['lang'].isin(languages)]\n",
    "\n",
    "# Pick the top 80 longest articles\n",
    "top_80_df['text_length'] = top_80_df['text'].str.len()\n",
    "top_80_df.sort_values(by=['text_length'], ascending=False, inplace=True)\n",
    "top_80_df = top_80_df[:80]\n",
    "\n",
    "# Language distribution\n",
    "top_80_df['lang'].value_counts()"
   ]
  },
  {
   "cell_type": "code",
   "execution_count": null,
   "id": "09fb0837-91c2-4a5d-8f9a-9772690036f7",
   "metadata": {},
   "outputs": [],
   "source": [
    "# Let's look at the first record\n",
    "top_80_df['text'].iloc[0]"
   ]
  },
  {
   "cell_type": "code",
   "execution_count": null,
   "id": "9aa02a01",
   "metadata": {},
   "outputs": [],
   "source": [
    "# Set up translator. You can also commemnt this block and use the Python list at the end of this notebook\n",
    "# if you run into any issues with the translator API\n",
    "translator= Translator(from_lang=\"autodetect\", to_lang=\"en\")\n",
    "translations = []\n",
    "\n",
    "# Translate text\n",
    "for text in top_80_df['text']:\n",
    "    translation = translator.translate(text)\n",
    "    # If the header is already in english we will just paste the original text\n",
    "    if translation == 'PLEASE SELECT TWO DISTINCT LANGUAGES':\n",
    "        translations.append(text) \n",
    "    else:\n",
    "        translations.append(translation)"
   ]
  },
  {
   "cell_type": "code",
   "execution_count": null,
   "id": "172418d0-9b7c-4e9f-a390-d0dd5473ec45",
   "metadata": {},
   "outputs": [],
   "source": [
    "# Add translated text to the dataframe\n",
    "top_80_df['translated_text'] = translations\n",
    "\n",
    "# Now we can see the translation of that same record\n",
    "top_80_df['translated_text'].iloc[0]"
   ]
  },
  {
   "cell_type": "markdown",
   "id": "bc6f9061-96a4-4d22-af35-8c2f9d9ae19a",
   "metadata": {},
   "source": [
    "### Step 4: Embed and Index Documents"
   ]
  },
  {
   "cell_type": "code",
   "execution_count": null,
   "id": "41fa6476-9cff-4af0-9d03-50213d72a2e6",
   "metadata": {},
   "outputs": [],
   "source": [
    "# Establish Cohere client\n",
    "co = cohere_aws.Client(mode=cohere_aws.Mode.BEDROCK)\n",
    "model_id = \"cohere.embed-multilingual-v3\"\n",
    "\n",
    "# Embed documents\n",
    "docs = top_80_df['text'].to_list()\n",
    "docs_lang = top_80_df['lang'].to_list()\n",
    "translated_docs = top_80_df['translated_text'].to_list() #for reference when returning non-English results\n",
    "doc_embs = co.embed(texts=docs, model_id=model_id, input_type='search_document').embeddings\n",
    "\n",
    "# Create a search index\n",
    "index = hnswlib.Index(space='ip', dim=1024)\n",
    "index.init_index(max_elements=len(doc_embs), ef_construction=512, M=64)\n",
    "index.add_items(doc_embs, list(range(len(doc_embs))))"
   ]
  },
  {
   "cell_type": "markdown",
   "id": "4de25ec1-98f6-4a07-819a-ac40c3324cd3",
   "metadata": {},
   "source": [
    "### Step 5: Build a Retrieval System"
   ]
  },
  {
   "cell_type": "code",
   "execution_count": null,
   "id": "29843367-b738-4eb5-83eb-0bb5827b3a79",
   "metadata": {},
   "outputs": [],
   "source": [
    "# Retrieval of 4 closest docs to query\n",
    "def retrieval(query):\n",
    "    # Embed query and retrieve results\n",
    "    query_emb = co.embed(texts=[query], model_id=model_id, input_type=\"search_query\").embeddings\n",
    "    doc_ids = index.knn_query(query_emb, k=3)[0][0] # we will retrieve 4 closest neighbors\n",
    "    \n",
    "    # Print and append results\n",
    "    print(f\"QUERY: {query.upper()} \\n\")\n",
    "    retrieved_docs, translated_retrieved_docs = [], []\n",
    "    \n",
    "    for doc_id in doc_ids:\n",
    "        # Append results\n",
    "        retrieved_docs.append(docs[doc_id])\n",
    "        translated_retrieved_docs.append(translated_docs[doc_id])\n",
    "    \n",
    "        # Print results\n",
    "        print(f\"ORIGINAL ({docs_lang[doc_id]}): {docs[doc_id]}\")\n",
    "        if docs_lang[doc_id] != \"English\":\n",
    "            print(f\"TRANSLATION: {translated_docs[doc_id]} \\n----\")\n",
    "        else:\n",
    "            print(\"----\")\n",
    "    print(\"END OF RESULTS \\n\\n\")\n",
    "    return retrieved_docs, translated_retrieved_docs"
   ]
  },
  {
   "cell_type": "markdown",
   "id": "b924bd1d-930a-4624-8ad6-cc0eef8c5b07",
   "metadata": {},
   "source": [
    "### Step 6: Query the Retrieval System"
   ]
  },
  {
   "cell_type": "code",
   "execution_count": null,
   "id": "aa6a8d7f-9cfe-4c58-8153-f148aaca89d6",
   "metadata": {},
   "outputs": [],
   "source": [
    "queries = [\n",
    "    \"Are businesses meeting sustainability goals?\",\n",
    "    \"Can data science help meet sustainability goals?\"\n",
    "]\n",
    "\n",
    "for query in queries:\n",
    "    retrieval(query)"
   ]
  },
  {
   "cell_type": "code",
   "execution_count": null,
   "id": "8d8b6191-d218-4f4c-bc97-e9e3493113f9",
   "metadata": {},
   "outputs": [],
   "source": [
    "query = \"Hvor kan jeg finde den seneste danske boligplan?\" # \"Where can I find the latest Danish property plan?\"\n",
    "retrieved_docs, translated_retrieved_docs = retrieval(query)"
   ]
  },
  {
   "cell_type": "markdown",
   "id": "a5605c59-0ef4-48f5-8dc9-4cbc7b95ec5d",
   "metadata": {},
   "source": [
    "### Step 7: Improve Results with Cohere Rerank\n",
    "\n",
    "The following query is not returning the most relevant result at the top, here is where Rerank will help."
   ]
  },
  {
   "cell_type": "code",
   "execution_count": null,
   "id": "7e22c0e1",
   "metadata": {},
   "outputs": [],
   "source": [
    "query = \"Are companies ready for the next down market?\"\n",
    "retrieved_docs, translated_retrieved_docs = retrieval(query)"
   ]
  },
  {
   "cell_type": "markdown",
   "id": "bbe1bd3c",
   "metadata": {},
   "source": [
    "####  Subscribe to the model package in SageMaker\n",
    "\n",
    "\n",
    "Rerank is available in SageMaker and will soon be available in Bedrock. We will use SageMaker now but the process with Bedrock will be similar as shown above for the Embed model and you won't need to create and manage an endpoint.\n",
    "\n",
    "\n",
    "To subscribe to the model package:\n",
    "1. Open the model package listing page [cohere-rerank-multilingual](https://aws.amazon.com/marketplace/pp/prodview-pf7d2umihcseq)\n",
    "1. On the AWS Marketplace listing, click on the **Continue to subscribe** button.\n",
    "1. On the **Subscribe to this software** page, review and click on **\"Accept Offer\"** if you and your organization agrees with EULA, pricing, and support terms. \n",
    "1. Once you click on **Continue to configuration button** and then choose a **region**, you will see a **Product Arn** displayed. This is the model package ARN that you need to specify while creating a deployable model using Boto3. Copy the ARN corresponding to your region and specify the same in the following cell."
   ]
  },
  {
   "cell_type": "code",
   "execution_count": null,
   "id": "450c314a",
   "metadata": {},
   "outputs": [],
   "source": [
    "# map model package arn\n",
    "import boto3\n",
    "cohere_package = \"cohere-rerank-multilingual-v2--8b26a507962f3adb98ea9ac44cb70be1\" # replace this with your info\n",
    "\n",
    "model_package_map = {\n",
    "    \"us-east-1\": f\"arn:aws:sagemaker:us-east-1:865070037744:model-package/{cohere_package}\",\n",
    "    \"us-east-2\": f\"arn:aws:sagemaker:us-east-2:057799348421:model-package/{cohere_package}\",\n",
    "    \"us-west-1\": f\"arn:aws:sagemaker:us-west-1:382657785993:model-package/{cohere_package}\",\n",
    "    \"us-west-2\": f\"arn:aws:sagemaker:us-west-2:594846645681:model-package/{cohere_package}\",\n",
    "    \"ca-central-1\": f\"arn:aws:sagemaker:ca-central-1:470592106596:model-package/{cohere_package}\",\n",
    "    \"eu-central-1\": f\"arn:aws:sagemaker:eu-central-1:446921602837:model-package/{cohere_package}\",\n",
    "    \"eu-west-1\": f\"arn:aws:sagemaker:eu-west-1:985815980388:model-package/{cohere_package}\",\n",
    "    \"eu-west-2\": f\"arn:aws:sagemaker:eu-west-2:856760150666:model-package/{cohere_package}\",\n",
    "    \"eu-west-3\": f\"arn:aws:sagemaker:eu-west-3:843114510376:model-package/{cohere_package}\",\n",
    "    \"eu-north-1\": f\"arn:aws:sagemaker:eu-north-1:136758871317:model-package/{cohere_package}\",\n",
    "    \"ap-southeast-1\": f\"arn:aws:sagemaker:ap-southeast-1:192199979996:model-package/{cohere_package}\",\n",
    "    \"ap-southeast-2\": f\"arn:aws:sagemaker:ap-southeast-2:666831318237:model-package/{cohere_package}\",\n",
    "    \"ap-northeast-2\": f\"arn:aws:sagemaker:ap-northeast-2:745090734665:model-package/{cohere_package}\",\n",
    "    \"ap-northeast-1\": f\"arn:aws:sagemaker:ap-northeast-1:977537786026:model-package/{cohere_package}\",\n",
    "    \"ap-south-1\": f\"arn:aws:sagemaker:ap-south-1:077584701553:model-package/{cohere_package}\",\n",
    "    \"sa-east-1\": f\"arn:aws:sagemaker:sa-east-1:270155090741:model-package/{cohere_package}\",\n",
    "}\n",
    "\n",
    "region = boto3.Session().region_name\n",
    "if region not in model_package_map.keys():\n",
    "    raise Exception(f\"Current boto3 session region {region} is not supported.\")\n",
    "\n",
    "model_package_arn = model_package_map[region]"
   ]
  },
  {
   "cell_type": "markdown",
   "id": "f6dfc159",
   "metadata": {},
   "source": [
    "#### Create an endpoint and perform real-time inference\n",
    "\n",
    "If you want to understand how real-time inference with Amazon SageMaker works, see [Documentation](https://docs.aws.amazon.com/sagemaker/latest/dg/how-it-works-hosting.html)."
   ]
  },
  {
   "cell_type": "code",
   "execution_count": null,
   "id": "ad714c74",
   "metadata": {},
   "outputs": [],
   "source": [
    "co = cohere_aws.Client(region_name=region)\n",
    "co.create_endpoint(arn=model_package_arn, endpoint_name=\"cohere-rerank-multilingual\", instance_type=\"ml.g4dn.xlarge\", n_instances=1)\n",
    "\n",
    "# If the endpoint is already created, you just need to connect to it\n",
    "# co.connect_to_endpoint(endpoint_name=\"cohere-rerank-multilingual\")"
   ]
  },
  {
   "cell_type": "markdown",
   "id": "32facc5b",
   "metadata": {},
   "source": [
    "Once endpoint has been created, you would be able to perform real-time inference."
   ]
  },
  {
   "cell_type": "code",
   "execution_count": null,
   "id": "6d7ee9ff-03cd-4140-b972-768a67872c51",
   "metadata": {},
   "outputs": [],
   "source": [
    "results = co.rerank(query=query, documents=retrieved_docs, top_n=1)\n",
    "\n",
    "for hit in results:\n",
    "    print(hit.document['text'])"
   ]
  },
  {
   "cell_type": "markdown",
   "id": "f1b05c56-7af6-4b01-810b-6ba04302a4b1",
   "metadata": {},
   "source": [
    "### Translations Backup\n",
    "\n",
    "You can leverage the list below which already has the results of the translation if you run into any issues or rate limits using the translate package"
   ]
  },
  {
   "cell_type": "code",
   "execution_count": null,
   "id": "818fa008",
   "metadata": {},
   "outputs": [],
   "source": [
    "translations = [\"CFOdirect: Results from PwC's Employee Engagement Landscape Survey, including how to increase employee engagement. Read also about the accounting consequences for income tax according to Brexit\",\n",
    " \"CFOdirect: Get guidance on, among other things, income taxes, IFRS, etc. in PwC's Strategy That Works on how to ensure an effective and value-creating approach to strategy and execution through five actions\",\n",
    " \"CFOdirect: For the 10th time, PwC measures companies' digital transformation in the Digital IQ Survey 2017 and new FASB guidance clarifies the accounting treatment of non-financial assets\",\n",
    " 'Most acquisitions and divestments don’t maximise value – even when some dealmakers think they do. But acquirers who prioritise value creation at the onset outperform peers by as much as 14%',\n",
    " 'CFOdirect: Investors look at diversity on the board. What does it look like for your industry? Also read our benchmarking analysis of recently listed technology companies',\n",
    " 'Polish Constitutional Tribunal stated that the bill introducing the removal of the pension and disability contributions is not consistent with Polish Constitution',\n",
    " 'CFOdirect: Why and how the board should take a fresh look at risks in your company, analysis of 17 major banks during and after the financial crisis and much more',\n",
    " 'New from CFOdirect: new standard for hedge accounting on the way, simplified tax accounting for internal transfers of assets, and much more',\n",
    " 'Proposed amendment to the Polish CIT Law to end exemption of rental revenues and capital gains from disposal of real estate available to investment funds',\n",
    " 'New from CFOdirect: New standard on revenue recognition, revision of accounting estimates/audit estimates, cybersecurity webcast and much more',\n",
    " '69% of business leaders have experienced a corporate crisis in the last five years yet 29% of companies have no staff dedicated to crisis preparedness',\n",
    " 'PwC Esade Georgeson and Diligent create a new Corporate Governance Centre of reference in Spain to improve the governance of Esade companies',\n",
    " 'Amendment to the Polish CIT Law restricting exemption of rental revenues and capital gains from disposal of real estate available to investment funds',\n",
    " 'PwC and Salesforce: Connecting organizations to their customers using the latest innovations in cloud, social, mobile and data analytics solutions',\n",
    " 'New from CFOdirect: New PP&E guide, FAQs on the new leasing standard, podcast on the challenges of implementing the leasing standard and much more',\n",
    " 'Legislative proposal presented on interest-free loans, deferred payroll tax deadline, early payment of tax credit and ceiling on deposits in the tax account',\n",
    " 'Spain could reduce its emissions by between 7% and 17% by 2033 if it opts for a model based on innovation and technological development',\n",
    " 'Experts and managers consider the role of institutions in driving innovation and digitization in the economy to be irrelevant',\n",
    " 'PwC Tax & Legal Services, the second most innovative law firm in Europe in the New Business of Law category, according to the FT Innovative Lawyers awards',\n",
    " 'Experts and managers believe that the reform of the Corporation Tax will reduce the competitiveness of companies and economic growth',\n",
    " 'Conclusions of the webcast: Multinationals facing the COVID-19 crisis: fiscal perspective of the restructuring of business models',\n",
    " 'The Spanish hotel sector will remain stable for the 2018 Summer season following the historical records broken in previous seasons',\n",
    " 'Spanish companies are improving their degree of digitisation and are betting on Artificial Intelligence and robotisation for the Internet of Things',\n",
    " 'PwC Poland, Airbus Poland, Cleanproject and SatRevolution to start a unique aerospace startup acceleration program  – Future Space Accelerator',\n",
    " \"CFOdirect: IFRS news - New Year's resolutions for your company, be prepared for what questions you will face at the shareholders' meeting and much more\",\n",
    " 'Integrate ESG criteria and purpose into the main challenge strategy of the Boards of Spanish companies in the post-COVID world',\n",
    " 'CFOdirect: Seven Paths to Growth for Medium-Sized Enterprises, and Podcast on Disclosure Requirements in the \"Revenue from Contracts with Customers\" Standard',\n",
    " 'Greater attention to non-financial information and  technology, keys to the new internal control regulations for companies',\n",
    " 'Digitalization and new consumer expectations put a $46 trillion market in logistics at stake',\n",
    " 'CFOdirect: 20 years of PwC CEO survey, VIDEO: FASB has updated the definition of a company - get the changes explained and much more',\n",
    " 'Changes in the VAT Directive – as of 1 January 2020 new rules on settlement of international commodity transactions will come into force',\n",
    " 'The experts and directors ask the new government not to touch the Corporate Tax and a reduction of the IRPF in the next legislature',\n",
    " 'Bill on the legal status of employers and employees in the case of salary compensation of companies in connection with COVID-19 has now been adopted',\n",
    " 'Technology and succession strategy the three challenges faced by the Boards of Directors of large Spanish companies',\n",
    " 'Blockchain technologies could boost the global economy US$1.76 trillion by 2030 through raising levels of tracking, tracing and trust.',\n",
    " 'Blockchain technologies could boost the global economy US$1.76 trillion by 2030 through raising levels of tracking, tracing and trust',\n",
    " 'Hotel sector prospects improve for the second quarter of the year despite political and financial uncertainty',\n",
    " 'Survey Polled Over 500 Global Executives on How Financial Services and Technology Firms are Navigating the Current Fintech Landscape',\n",
    " 'Large companies must submit all their tax documentation by electronic means from 1 July',\n",
    " \"Experts question the Treasury's calculation of the effective rate of Corporate Income Tax paid by Spanish companies\",\n",
    " 'Key technical and digital training to improve the labour insertion of girls and young people in the Spanish labour market of the future',\n",
    " 'The press will experience a 21% drop in revenue over the next five years despite the rise of digital advertising',\n",
    " 'PwC Named a Leader in Global Cybersecurity Consulting and Global Digital Experience Agencies reports by Independent Research Firm',\n",
    " 'Loss of sensitive data and damage to physical assets main impacts of cyberattacks on Spanish companies',\n",
    " 'As work sites slowly start to reopen, CFOs are concerned about the global economy and a potential new COVID-19 wave - PwC survey',\n",
    " 'Proposal from the Minister for Industry, Business and Financial Affairs: Abolition of the possibility of establishing IVSs and simultaneous reduction of the capital requirement in APSs',\n",
    " 'Large companies change the direction of innovation: software and services gain weight to the detriment of the physical product',\n",
    " 'AML Transaction Monitoring Overview: Banking segments differentiators - Retail, Corporate, Correspondent and Investment banking.',\n",
    " 'Quality of business reporting on the Sustainable Development Goals improves, but has a long way to go to meet and drive targets.',\n",
    " 'From cigars to 3D printing: Starting a new entrepreneurial venture in the Netherlands: Global Family Business Survey 2016: PwC',\n",
    " 'Water companies - now associations can probably be established soon in order to improve the efficiency and quality of the sector',\n",
    " 'European banks face the challenge of increasing their profitability in a context of low rates and new regulatory requirements',\n",
    " '85% of Spanish CEOs believe that technology is the disruptive factor that will transform their companies in the coming years',\n",
    " 'More than half of companies acknowledge that they do not adequately manage their risks and claim the role of internal auditors',\n",
    " 'The preference for cash and the fragmentation of the market are obstacles to creating a means of payment industry in the EU',\n",
    " 'Tax Flash: Amendment of the circular regarding the filing procedures of Country by Country Reports and relevant notifications',\n",
    " 'Sherlock in Health:How artificial intelligence may improve quality and efficiency whilst reducing healthcare costs in Europe?',\n",
    " 'Finnish national developments with regards to the final tax losses doctrine concerning cross-border EU/EEA group contribution',\n",
    " 'Banking executives see the arrival of new entrants outside the sector as the main threat to the traditional business',\n",
    " 'Publications on new leasing standard, IFRS 16, and special challenges for shipping companies and communication companies',\n",
    " 'Innovation, digitisation and international competition are the three major challenges facing Spanish family businesses',\n",
    " 'Governments should do more to unlock the potential of technology to facilitate tax compliance, says PwC and World Bank report',\n",
    " 'Companies shifting more R&D spending away from physical products to software and services: 2016 Global Innovation 1000 Study',\n",
    " 'Over a half of the “fathers and sons” surveyed by PwC together with NAFI are optimistic about the future of Russian business',\n",
    " 'R&D Tax Relief – significant growth of the deduction and costs of staff on civil law contracts as qualified costs since 2018',\n",
    " 'Only 10 years to achieve Sustainable Development Goals but businesses remain on starting blocks for integration and progress',\n",
    " 'Webcast summary: Data protection regulation and guarantee of digital rights in health crisis situations',\n",
    " 'The stock market value of the 100 largest listed companies falls 15% between January and March but withstands the onslaught of COVID-19',\n",
    " \"Business and people with high share or capital income must finance the government's proposal on the right to early retirement\",\n",
    " 'Decarbonization plus investment in networks and renewables and new services the strategic bets of the large electricity companies',\n",
    " 'Using AI to better manage the environment could reduce greenhouse gas emissions, boost global GDP by up to 38m jobs by 2030',\n",
    " 'Increased regulatory demands coupled with business change are forcing European banks to reinvent themselves in order to be profitable',\n",
    " 'New from CFOdirect: Shareholder questions for management, the SEC cybersecurity guide, US tax reform and more',\n",
    " 'Globalisation, digitisation, demographic change: Managing the megatrends in Russia: Global Family Business Survey 2016: PwC',\n",
    " 'PwC leads for the seventh consecutive year in transaction advice in Spain in 2018 according to the main rankings',\n",
    " '49% of CFOs believe their companies would be back to normal in 3 months if the pandemic ended today',\n",
    " 'The real estate sector faces 2013 with moderate optimism and expects it to mark the beginning of the market revival',\n",
    " 'Foundations and Associations as obligated subjects for the prevention of money laundering and terrorist financing',\n",
    " '34 Digital Innovation Hubs that have qualified for the Smart Factories programme will receive support from PwC and Oxentia',\n",
    " 'Monitoring, Reporting and Validating (MRV) maritime vessels’ CO2 emissions performance: A new era in the Shipping Industry'] "
   ]
  }
 ],
 "metadata": {
  "kernelspec": {
   "display_name": "conda_python3",
   "language": "python",
   "name": "conda_python3"
  },
  "language_info": {
   "codemirror_mode": {
    "name": "ipython",
    "version": 3
   },
   "file_extension": ".py",
   "mimetype": "text/x-python",
   "name": "python",
   "nbconvert_exporter": "python",
   "pygments_lexer": "ipython3",
   "version": "3.10.13"
  }
 },
 "nbformat": 4,
 "nbformat_minor": 5
}
