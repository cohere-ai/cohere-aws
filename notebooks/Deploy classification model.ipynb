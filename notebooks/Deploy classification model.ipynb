{
 "cells": [
  {
   "attachments": {},
   "cell_type": "markdown",
   "metadata": {},
   "source": [
    "## Choose an S3 directory to store the training data, and another one to store model artifacts"
   ]
  },
  {
   "cell_type": "code",
   "execution_count": null,
   "metadata": {},
   "outputs": [],
   "source": [
    "s3_data_dir = \"s3://...\"\n",
    "s3_models_dir = \"s3://...\""
   ]
  },
  {
   "attachments": {},
   "cell_type": "markdown",
   "metadata": {},
   "source": [
    "# Upload data on S3 "
   ]
  },
  {
   "cell_type": "code",
   "execution_count": null,
   "metadata": {},
   "outputs": [],
   "source": [
    "from sagemaker.s3 import S3Uploader\n",
    "import sagemaker as sage\n",
    "\n",
    "sess = sage.Session()\n",
    "# TODO: Create these datasets in examples folder\n",
    "train_dataset1 = S3Uploader.upload(\"../examples/sentiment_classification_train.csv\", s3_models_dir, sagemaker_session=sess)\n",
    "train_dataset2 = S3Uploader.upload(\"../examples/intent_classification_multilabel_train.csv\", s3_models_dir, sagemaker_session=sess)"
   ]
  },
  {
   "cell_type": "code",
   "execution_count": null,
   "metadata": {},
   "outputs": [],
   "source": [
    "# WIP\n",
    "from cohere_sagemaker import Client\n",
    "\n",
    "co = Client()\n",
    "co.create_finetune(arn=\"\", name=\"\", train_data)"
   ]
  }
 ],
 "metadata": {
  "language_info": {
   "name": "python"
  },
  "orig_nbformat": 4
 },
 "nbformat": 4,
 "nbformat_minor": 2
}
